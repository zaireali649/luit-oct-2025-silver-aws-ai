{
 "cells": [
  {
   "cell_type": "markdown",
   "id": "763c0e9a-2387-493f-94bc-96ffecd4a9c8",
   "metadata": {},
   "source": [
    "## Certified AI Practitioner Week 02 Call 01 - Train and Evaluate in the Cloud"
   ]
  },
  {
   "cell_type": "markdown",
   "id": "6f84b897-7cba-4d9e-920f-ca6193b7e4ad",
   "metadata": {},
   "source": [
    "## Learning Objectives"
   ]
  },
  {
   "cell_type": "markdown",
   "id": "880bca35-6340-4db1-9b2b-760da3539d1f",
   "metadata": {},
   "source": [
    "- Create SageMaker Studio resources programmatically using CloudFormation\n",
    "- Upload data and artifacts to S3 for use with SageMaker\n",
    "- Use SageMaker to train a scikit-learn model from a training script\n",
    "- View and interpret model performance from CloudWatch logs\n",
    "- Explain and interpret confusion matrices and feature importance\n",
    "- Understand how IAM roles and S3 permissions enable secure ML workflows\n",
    "- Automate model training using the SKLearn Estimator API"
   ]
  },
  {
   "cell_type": "markdown",
   "id": "0a8988f1",
   "metadata": {},
   "source": [
    "## Why Train in the Cloud?"
   ]
  },
  {
   "cell_type": "markdown",
   "id": "41fb994f",
   "metadata": {},
   "source": [
    "Local notebooks are great for prototyping, but they don’t scale well when working with real-world machine learning workflows. As datasets grow and model complexity increases, training on your laptop becomes slow, inconsistent, and hard to reproduce.\n",
    "\n",
    "By using **Amazon SageMaker**, we get:\n",
    "\n",
    "- **Scalability** - Choose from dozens of instance types to train faster  \n",
    "- **Reproducibility** - Jobs are tracked, versioned, and logged  \n",
    "- **Separation of concerns** - Training logic is decoupled from local development  \n",
    "- **Artifact storage** - Models are automatically saved to S3 for reuse  \n",
    "- **Built-in monitoring** - Logs are streamed to CloudWatch for debugging and analysis\n",
    "\n",
    "In this session, we’ll shift from training locally to launching a fully managed training job in the cloud.\n"
   ]
  },
  {
   "cell_type": "markdown",
   "id": "e8f6b15f",
   "metadata": {},
   "source": [
    "## Infrastructure Setup with CloudFormation"
   ]
  },
  {
   "cell_type": "markdown",
   "id": "27f1a9b6",
   "metadata": {},
   "source": [
    "To train models in SageMaker Studio, we first need to provision the necessary infrastructure.\n",
    "\n",
    "In this step, we’ll use an automated **CloudFormation template** to create:\n",
    "\n",
    "- A **SageMaker Studio domain** for running cloud-based notebooks  \n",
    "- An **IAM execution role** with S3 and SageMaker permissions  \n",
    "- A dedicated **S3 bucket** to store training data and model artifacts  \n",
    "\n",
    "Instead of clicking through the AWS Console, we’ll deploy this setup programmatically using `boto3`. The stack will output everything you need - including the bucket name and role ARN - to use in the next steps of this notebook."
   ]
  },
  {
   "cell_type": "code",
   "execution_count": 3,
   "id": "f658ff1e",
   "metadata": {},
   "outputs": [
    {
     "name": "stdout",
     "output_type": "stream",
     "text": [
      "🚀 Creating stack: caip02-cloud-ml-stack\n",
      "⏳ Waiting for caip02-cloud-ml-stack to complete...\n",
      "✅ Stack operation completed.\n",
      "🔧 Stack Outputs:\n",
      "{\n",
      "  \"StudioUserName\": \"caip02-user\",\n",
      "  \"BucketName\": \"caip02-ml-bucket-zali\",\n",
      "  \"DomainId\": \"d-engxnmjfm6da\",\n",
      "  \"RoleArn\": \"arn:aws:iam::458806987020:role/caip02-execution-role-zali\"\n",
      "}\n"
     ]
    }
   ],
   "source": [
    "import boto3\n",
    "import json\n",
    "\n",
    "def stack_exists(name):\n",
    "    try:\n",
    "        cf.describe_stacks(StackName=name)\n",
    "        return True\n",
    "    except cf.exceptions.ClientError as e:\n",
    "        if \"does not exist\" in str(e):\n",
    "            return False\n",
    "        raise  # re-raise any unexpected error\n",
    "\n",
    "def deploy_stack(stack_name, template_body, parameters):\n",
    "    if stack_exists(stack_name):\n",
    "        print(f\"🔄 Updating stack: {stack_name}\")\n",
    "        try:\n",
    "            response = cf.update_stack(\n",
    "                StackName=stack_name,\n",
    "                TemplateBody=template_body,\n",
    "                Parameters=parameters,\n",
    "                Capabilities=[\"CAPABILITY_NAMED_IAM\"]\n",
    "            )\n",
    "            waiter = cf.get_waiter(\"stack_update_complete\")\n",
    "        except cf.exceptions.ClientError as e:\n",
    "            if \"No updates are to be performed\" in str(e):\n",
    "                print(\"✅ No changes detected.\")\n",
    "                return\n",
    "            else:\n",
    "                raise\n",
    "    else:\n",
    "        print(f\"🚀 Creating stack: {stack_name}\")\n",
    "        response = cf.create_stack(\n",
    "            StackName=stack_name,\n",
    "            TemplateBody=template_body,\n",
    "            Parameters=parameters,\n",
    "            Capabilities=[\"CAPABILITY_NAMED_IAM\"]\n",
    "        )\n",
    "        waiter = cf.get_waiter(\"stack_create_complete\")\n",
    "\n",
    "    print(f\"⏳ Waiting for {stack_name} to complete...\")\n",
    "    waiter.wait(StackName=stack_name)\n",
    "    print(\"✅ Stack operation completed.\")\n",
    "\n",
    "    # Print outputs\n",
    "    outputs = cf.describe_stacks(StackName=stack_name)[\"Stacks\"][0][\"Outputs\"]\n",
    "    print(\"🔧 Stack Outputs:\")\n",
    "    print(json.dumps({o[\"OutputKey\"]: o[\"OutputValue\"] for o in outputs}, indent=2))\n",
    "\n",
    "ec2 = boto3.client(\"ec2\")\n",
    "cf = boto3.client(\"cloudformation\")\n",
    "\n",
    "# Get the default VPC ID\n",
    "vpc_id = ec2.describe_vpcs(Filters=[{\"Name\": \"isDefault\", \"Values\": [\"true\"]}])[\"Vpcs\"][0][\"VpcId\"]\n",
    "\n",
    "# Get a public subnet ID in that VPC\n",
    "subnets = ec2.describe_subnets(Filters=[{\"Name\": \"vpc-id\", \"Values\": [vpc_id]}])\n",
    "subnet_id = subnets[\"Subnets\"][0][\"SubnetId\"]\n",
    "\n",
    "# Load your template\n",
    "with open(\"cf_templates/sagemaker_infra.yaml\") as f:\n",
    "    template_body = f.read()\n",
    "\n",
    "bucketNameSuffix = \"zali\"\n",
    "stack_name = \"caip02-cloud-ml-stack\"\n",
    "\n",
    "parameters = [\n",
    "    {\"ParameterKey\": \"BucketNameSuffix\", \"ParameterValue\": bucketNameSuffix},\n",
    "    {\"ParameterKey\": \"VpcId\", \"ParameterValue\": vpc_id},\n",
    "    {\"ParameterKey\": \"SubnetId\", \"ParameterValue\": subnet_id}\n",
    "]\n",
    "\n",
    "deploy_stack(stack_name, template_body, parameters)\n"
   ]
  },
  {
   "cell_type": "markdown",
   "id": "9b86af3f",
   "metadata": {},
   "source": [
    "## Prepare Titanic Data"
   ]
  },
  {
   "cell_type": "markdown",
   "id": "fc49a4c1",
   "metadata": {},
   "source": [
    "In this step, we’ll clean and preprocess the Titanic dataset using the same logic we applied in Week 1. This prepares the data for training in SageMaker.\n",
    "\n",
    "We will:\n",
    "\n",
    "- Load both training and test CSVs from Kaggle  \n",
    "- Combine them into a single DataFrame  \n",
    "- Select relevant features  \n",
    "- Drop rows with missing values (for simplicity)  \n",
    "- Encode categorical columns (`Sex`, `Embarked`) as numeric values  \n",
    "- Save the cleaned dataset as `cleaned_titanic.csv`\n"
   ]
  },
  {
   "cell_type": "code",
   "execution_count": 6,
   "id": "5626a993",
   "metadata": {},
   "outputs": [
    {
     "name": "stdout",
     "output_type": "stream",
     "text": [
      "\n",
      "Cleaned preview:\n"
     ]
    },
    {
     "data": {
      "text/html": [
       "<div>\n",
       "<style scoped>\n",
       "    .dataframe tbody tr th:only-of-type {\n",
       "        vertical-align: middle;\n",
       "    }\n",
       "\n",
       "    .dataframe tbody tr th {\n",
       "        vertical-align: top;\n",
       "    }\n",
       "\n",
       "    .dataframe thead th {\n",
       "        text-align: right;\n",
       "    }\n",
       "</style>\n",
       "<table border=\"1\" class=\"dataframe\">\n",
       "  <thead>\n",
       "    <tr style=\"text-align: right;\">\n",
       "      <th></th>\n",
       "      <th>Survived</th>\n",
       "      <th>Pclass</th>\n",
       "      <th>Sex</th>\n",
       "      <th>Age</th>\n",
       "      <th>SibSp</th>\n",
       "      <th>Parch</th>\n",
       "      <th>Fare</th>\n",
       "      <th>Embarked</th>\n",
       "    </tr>\n",
       "  </thead>\n",
       "  <tbody>\n",
       "    <tr>\n",
       "      <th>0</th>\n",
       "      <td>0.0</td>\n",
       "      <td>3</td>\n",
       "      <td>0</td>\n",
       "      <td>22.0</td>\n",
       "      <td>1</td>\n",
       "      <td>0</td>\n",
       "      <td>7.2500</td>\n",
       "      <td>0</td>\n",
       "    </tr>\n",
       "    <tr>\n",
       "      <th>1</th>\n",
       "      <td>1.0</td>\n",
       "      <td>1</td>\n",
       "      <td>1</td>\n",
       "      <td>38.0</td>\n",
       "      <td>1</td>\n",
       "      <td>0</td>\n",
       "      <td>71.2833</td>\n",
       "      <td>1</td>\n",
       "    </tr>\n",
       "    <tr>\n",
       "      <th>2</th>\n",
       "      <td>1.0</td>\n",
       "      <td>3</td>\n",
       "      <td>1</td>\n",
       "      <td>26.0</td>\n",
       "      <td>0</td>\n",
       "      <td>0</td>\n",
       "      <td>7.9250</td>\n",
       "      <td>0</td>\n",
       "    </tr>\n",
       "    <tr>\n",
       "      <th>3</th>\n",
       "      <td>1.0</td>\n",
       "      <td>1</td>\n",
       "      <td>1</td>\n",
       "      <td>35.0</td>\n",
       "      <td>1</td>\n",
       "      <td>0</td>\n",
       "      <td>53.1000</td>\n",
       "      <td>0</td>\n",
       "    </tr>\n",
       "    <tr>\n",
       "      <th>4</th>\n",
       "      <td>0.0</td>\n",
       "      <td>3</td>\n",
       "      <td>0</td>\n",
       "      <td>35.0</td>\n",
       "      <td>0</td>\n",
       "      <td>0</td>\n",
       "      <td>8.0500</td>\n",
       "      <td>0</td>\n",
       "    </tr>\n",
       "  </tbody>\n",
       "</table>\n",
       "</div>"
      ],
      "text/plain": [
       "   Survived  Pclass  Sex   Age  SibSp  Parch     Fare  Embarked\n",
       "0       0.0       3    0  22.0      1      0   7.2500         0\n",
       "1       1.0       1    1  38.0      1      0  71.2833         1\n",
       "2       1.0       3    1  26.0      0      0   7.9250         0\n",
       "3       1.0       1    1  35.0      1      0  53.1000         0\n",
       "4       0.0       3    0  35.0      0      0   8.0500         0"
      ]
     },
     "metadata": {},
     "output_type": "display_data"
    },
    {
     "name": "stdout",
     "output_type": "stream",
     "text": [
      "Saved cleaned_titanic.csv\n"
     ]
    }
   ],
   "source": [
    "import pandas as pd\n",
    "\n",
    "# Load Titanic training and test datasets\n",
    "df_train = pd.read_csv(\"train.csv\")\n",
    "df_test = pd.read_csv(\"test.csv\")\n",
    "\n",
    "# Combine them into one DataFrame\n",
    "df = pd.concat([df_train, df_test], ignore_index=True)\n",
    "\n",
    "# Select relevant columns\n",
    "cols = [\"Survived\", \"Pclass\", \"Sex\", \"Age\", \"SibSp\", \"Parch\", \"Fare\", \"Embarked\"]\n",
    "df = df[cols]\n",
    "\n",
    "# Drop rows with missing values (simplified approach)\n",
    "df = df.dropna()\n",
    "\n",
    "# Encode categorical features\n",
    "df[\"Sex\"] = df[\"Sex\"].map({\"male\": 0, \"female\": 1})\n",
    "df[\"Embarked\"] = df[\"Embarked\"].map({\"S\": 0, \"C\": 1, \"Q\": 2})\n",
    "\n",
    "# Final preview\n",
    "print(\"\\nCleaned preview:\")\n",
    "display(df.head())\n",
    "\n",
    "# Save cleaned dataset\n",
    "df.to_csv(\"cleaned_titanic.csv\", index=False)\n",
    "print(\"Saved cleaned_titanic.csv\")\n"
   ]
  },
  {
   "cell_type": "markdown",
   "id": "ceb83a73",
   "metadata": {},
   "source": [
    "## Upload Data to S3"
   ]
  },
  {
   "cell_type": "markdown",
   "id": "df739d9a",
   "metadata": {},
   "source": [
    "Now that we’ve prepared the Titanic dataset, we’ll upload it to our dedicated S3 bucket so it can be used by SageMaker for training.\n",
    "\n",
    "Make sure you’re using the bucket created by your CloudFormation stack. You can retrieve it from the stack outputs or hardcode it here for now."
   ]
  },
  {
   "cell_type": "code",
   "execution_count": 7,
   "id": "c3881277",
   "metadata": {},
   "outputs": [
    {
     "name": "stdout",
     "output_type": "stream",
     "text": [
      "Uploaded cleaned_titanic.csv to s3://caip02-ml-bucket-zali/inputs/cleaned_titanic.csv\n"
     ]
    }
   ],
   "source": [
    "import boto3\n",
    "\n",
    "bucket_name = \"caip02-ml-bucket-zali\"  # Replace with your actual bucket name if needed\n",
    "key = \"inputs/cleaned_titanic.csv\"\n",
    "\n",
    "s3 = boto3.client(\"s3\")\n",
    "s3.upload_file(\"cleaned_titanic.csv\", bucket_name, key)\n",
    "\n",
    "print(f\"Uploaded cleaned_titanic.csv to s3://{bucket_name}/{key}\")\n"
   ]
  },
  {
   "cell_type": "markdown",
   "id": "f7cf3d80",
   "metadata": {},
   "source": [
    "## Write the Training Script (train_model.py)"
   ]
  },
  {
   "cell_type": "markdown",
   "id": "2e51353d",
   "metadata": {},
   "source": [
    "SageMaker training jobs run inside isolated containers. Instead of writing code cell by cell, we’ll create a standalone script that SageMaker will execute in the cloud.\n",
    "\n",
    "This script will:\n",
    "\n",
    "- Load the Titanic dataset from the input channel\n",
    "- Train a Decision Tree model\n",
    "- Evaluate performance using a confusion matrix and classification report\n",
    "- Print feature importances\n",
    "- Save the trained model to the `/opt/ml/model/` directory for SageMaker to capture\n",
    "\n",
    "We’ll save this script locally so we can pass it into a SageMaker training job."
   ]
  },
  {
   "cell_type": "code",
   "execution_count": 8,
   "id": "83c8d1a3",
   "metadata": {},
   "outputs": [
    {
     "data": {
      "text/markdown": [
       "```python\n",
       "import pandas as pd\n",
       "import joblib\n",
       "import os\n",
       "\n",
       "from sklearn.tree import DecisionTreeClassifier\n",
       "from sklearn.model_selection import train_test_split\n",
       "from sklearn.preprocessing import StandardScaler\n",
       "from sklearn.metrics import classification_report, confusion_matrix\n",
       "\n",
       "def main():\n",
       "    # SageMaker passes input as /opt/ml/input/data/train/\n",
       "    input_path = \"/opt/ml/input/data/train/cleaned_titanic.csv\"\n",
       "    df = pd.read_csv(input_path)\n",
       "\n",
       "    # Split features and target\n",
       "    X = df.drop(\"Survived\", axis=1)\n",
       "    y = df[\"Survived\"]\n",
       "\n",
       "    # Train/test split\n",
       "    X_train, X_test, y_train, y_test = train_test_split(X, y, stratify=y, random_state=42)\n",
       "\n",
       "    # Scale features\n",
       "    scaler = StandardScaler()\n",
       "    X_train_scaled = scaler.fit_transform(X_train)\n",
       "    X_test_scaled = scaler.transform(X_test)\n",
       "\n",
       "    # Train model\n",
       "    clf = DecisionTreeClassifier(max_depth=3, random_state=42)\n",
       "    clf.fit(X_train_scaled, y_train)\n",
       "\n",
       "    # Evaluate\n",
       "    y_pred = clf.predict(X_test_scaled)\n",
       "\n",
       "    print(\"\\n=== Classification Report ===\\n\")\n",
       "    print(classification_report(y_test, y_pred))\n",
       "\n",
       "    print(\"\\n=== Confusion Matrix ===\\n\")\n",
       "    print(confusion_matrix(y_test, y_pred))\n",
       "\n",
       "    print(\"\\n=== Feature Importances ===\\n\")\n",
       "    importances = pd.Series(clf.feature_importances_, index=X.columns)\n",
       "    print(importances.sort_values(ascending=False))\n",
       "\n",
       "    # Save model\n",
       "    os.makedirs(\"/opt/ml/model\", exist_ok=True)\n",
       "    joblib.dump(clf, \"/opt/ml/model/model.joblib\")\n",
       "\n",
       "if __name__ == \"__main__\":\n",
       "    main()\n",
       "\n",
       "```"
      ],
      "text/plain": [
       "<IPython.core.display.Markdown object>"
      ]
     },
     "metadata": {},
     "output_type": "display_data"
    }
   ],
   "source": [
    "from IPython.display import Markdown, display\n",
    "\n",
    "def show_code(filepath):\n",
    "    with open(filepath, \"r\") as f:\n",
    "        code = f.read()\n",
    "    display(Markdown(f\"```python\\n{code}\\n```\"))\n",
    "\n",
    "# Call this after writing the file\n",
    "show_code(\"train_model.py\")\n"
   ]
  },
  {
   "cell_type": "markdown",
   "id": "859f755f",
   "metadata": {},
   "source": [
    "## Launch a SageMaker Training Job"
   ]
  },
  {
   "cell_type": "markdown",
   "id": "ac323e8e",
   "metadata": {},
   "source": [
    "Now that our training script is ready and the data is uploaded to S3, we’ll launch a managed training job using SageMaker.\n",
    "\n",
    "We’ll use the **SKLearn Estimator**, which runs our `train_model.py` script inside a pre-built scikit-learn container. SageMaker will automatically:\n",
    "\n",
    "- Mount our data from S3 into the container\n",
    "- Run the training script\n",
    "- Capture logs in CloudWatch\n",
    "- Save the trained model artifact to our specified S3 output path\n",
    "\n",
    "Once the job completes, we’ll review the logs and retrieve the model if needed.\n",
    "\n",
    "### Why Use the SKLearn Estimator?\n",
    "\n",
    "The `SKLearn` Estimator is ideal for training traditional machine learning models (like decision trees) using **scikit-learn**. It lets us:\n",
    "\n",
    "- Run our local Python script without modification  \n",
    "- Avoid building Docker containers  \n",
    "- Focus on modeling, not infrastructure  \n",
    "- Use pre-configured SageMaker environments that match local development\n",
    "\n",
    "---\n",
    "\n",
    "### What Are the Alternatives?\n",
    "\n",
    "SageMaker provides several Estimators for different use cases:\n",
    "\n",
    "| Estimator | Use Case | Why We’re Not Using It |\n",
    "|----------|----------|-------------------------|\n",
    "| `SKLearn` | Scikit-learn models | ✅ Perfect for this training job |\n",
    "| `XGBoost` | Gradient boosting for tabular data | ❌ Great for next step, but we’re starting simple |\n",
    "| `TensorFlow` / `PyTorch` | Deep learning / neural networks | ❌ Overkill for decision trees |\n",
    "| `Estimator` (Generic) | Custom Docker containers | ❌ Too complex for this call |\n",
    "| `ScriptProcessor` | Preprocessing scripts (no model training) | ❌ We’re training a model, not just processing data |\n",
    "\n",
    "This flexibility is one of the key strengths of SageMaker — we can start simple, and scale up when needed."
   ]
  },
  {
   "cell_type": "code",
   "execution_count": 11,
   "id": "ce844f2b",
   "metadata": {},
   "outputs": [
    {
     "name": "stdout",
     "output_type": "stream",
     "text": [
      "sagemaker.config INFO - Not applying SDK defaults from location: C:\\ProgramData\\sagemaker\\sagemaker\\config.yaml\n",
      "sagemaker.config INFO - Not applying SDK defaults from location: C:\\Users\\Ziggy\\AppData\\Local\\sagemaker\\sagemaker\\config.yaml\n"
     ]
    },
    {
     "name": "stderr",
     "output_type": "stream",
     "text": [
      "INFO:sagemaker:Creating training-job with name: titanic-decision-tree-2025-10-27-23-29-54-142\n"
     ]
    },
    {
     "name": "stdout",
     "output_type": "stream",
     "text": [
      "2025-10-27 23:29:56 Starting - Starting the training job...\n",
      "2025-10-27 23:30:34 Downloading - Downloading input data..\n",
      "2025-10-27 23:31:04 Downloading - Downloading the training image.....2025-10-27 23:32:07,844 sagemaker-containers INFO     Imported framework sagemaker_sklearn_container.training\n",
      "2025-10-27 23:32:07,848 sagemaker-training-toolkit INFO     No GPUs detected (normal if no gpus installed)\n",
      "2025-10-27 23:32:07,852 sagemaker-training-toolkit INFO     No Neurons detected (normal if no neurons installed)\n",
      "2025-10-27 23:32:07,872 sagemaker_sklearn_container.training INFO     Invoking user training script.\n",
      "2025-10-27 23:32:08,148 sagemaker-training-toolkit INFO     No GPUs detected (normal if no gpus installed)\n",
      "2025-10-27 23:32:08,153 sagemaker-training-toolkit INFO     No Neurons detected (normal if no neurons installed)\n",
      "2025-10-27 23:32:08,176 sagemaker-training-toolkit INFO     No GPUs detected (normal if no gpus installed)\n",
      "2025-10-27 23:32:08,180 sagemaker-training-toolkit INFO     No Neurons detected (normal if no neurons installed)\n",
      "2025-10-27 23:32:08,205 sagemaker-training-toolkit INFO     No GPUs detected (normal if no gpus installed)\n",
      "2025-10-27 23:32:08,209 sagemaker-training-toolkit INFO     No Neurons detected (normal if no neurons installed)\n",
      "2025-10-27 23:32:08,227 sagemaker-training-toolkit INFO     Invoking user script\n",
      "Training Env:\n",
      "{\n",
      "    \"additional_framework_parameters\": {},\n",
      "    \"channel_input_dirs\": {\n",
      "        \"train\": \"/opt/ml/input/data/train\"\n",
      "    },\n",
      "    \"current_host\": \"algo-1\",\n",
      "    \"current_instance_group\": \"homogeneousCluster\",\n",
      "    \"current_instance_group_hosts\": [\n",
      "        \"algo-1\"\n",
      "    ],\n",
      "    \"current_instance_type\": \"ml.m5.large\",\n",
      "    \"distribution_hosts\": [],\n",
      "    \"distribution_instance_groups\": [],\n",
      "    \"framework_module\": \"sagemaker_sklearn_container.training:main\",\n",
      "    \"hosts\": [\n",
      "        \"algo-1\"\n",
      "    ],\n",
      "    \"hyperparameters\": {},\n",
      "    \"input_config_dir\": \"/opt/ml/input/config\",\n",
      "    \"input_data_config\": {\n",
      "        \"train\": {\n",
      "            \"TrainingInputMode\": \"File\",\n",
      "            \"S3DistributionType\": \"FullyReplicated\",\n",
      "            \"RecordWrapperType\": \"None\"\n",
      "        }\n",
      "    },\n",
      "    \"input_dir\": \"/opt/ml/input\",\n",
      "    \"instance_groups\": [\n",
      "        \"homogeneousCluster\"\n",
      "    ],\n",
      "    \"instance_groups_dict\": {\n",
      "        \"homogeneousCluster\": {\n",
      "            \"instance_group_name\": \"homogeneousCluster\",\n",
      "            \"instance_type\": \"ml.m5.large\",\n",
      "            \"hosts\": [\n",
      "                \"algo-1\"\n",
      "            ]\n",
      "        }\n",
      "    },\n",
      "    \"is_hetero\": false,\n",
      "    \"is_master\": true,\n",
      "    \"is_modelparallel_enabled\": null,\n",
      "    \"is_smddpmprun_installed\": false,\n",
      "    \"is_smddprun_installed\": false,\n",
      "    \"job_name\": \"titanic-decision-tree-2025-10-27-23-29-54-142\",\n",
      "    \"log_level\": 20,\n",
      "    \"master_hostname\": \"algo-1\",\n",
      "    \"model_dir\": \"/opt/ml/model\",\n",
      "    \"module_dir\": \"s3://caip02-ml-bucket-zali/titanic-decision-tree-2025-10-27-23-29-54-142/source/sourcedir.tar.gz\",\n",
      "    \"module_name\": \"train_model\",\n",
      "    \"network_interface_name\": \"eth0\",\n",
      "    \"num_cpus\": 2,\n",
      "    \"num_gpus\": 0,\n",
      "    \"num_neurons\": 0,\n",
      "    \"output_data_dir\": \"/opt/ml/output/data\",\n",
      "    \"output_dir\": \"/opt/ml/output\",\n",
      "    \"output_intermediate_dir\": \"/opt/ml/output/intermediate\",\n",
      "    \"resource_config\": {\n",
      "        \"current_host\": \"algo-1\",\n",
      "        \"current_instance_type\": \"ml.m5.large\",\n",
      "        \"current_group_name\": \"homogeneousCluster\",\n",
      "        \"hosts\": [\n",
      "            \"algo-1\"\n",
      "        ],\n",
      "        \"instance_groups\": [\n",
      "            {\n",
      "                \"instance_group_name\": \"homogeneousCluster\",\n",
      "                \"instance_type\": \"ml.m5.large\",\n",
      "                \"hosts\": [\n",
      "                    \"algo-1\"\n",
      "                ]\n",
      "            }\n",
      "        ],\n",
      "        \"network_interface_name\": \"eth0\",\n",
      "        \"topology\": null\n",
      "    },\n",
      "    \"user_entry_point\": \"train_model.py\"\n",
      "}\n",
      "Environment variables:\n",
      "SM_HOSTS=[\"algo-1\"]\n",
      "SM_NETWORK_INTERFACE_NAME=eth0\n",
      "SM_HPS={}\n",
      "SM_USER_ENTRY_POINT=train_model.py\n",
      "SM_FRAMEWORK_PARAMS={}\n",
      "SM_RESOURCE_CONFIG={\"current_group_name\":\"homogeneousCluster\",\"current_host\":\"algo-1\",\"current_instance_type\":\"ml.m5.large\",\"hosts\":[\"algo-1\"],\"instance_groups\":[{\"hosts\":[\"algo-1\"],\"instance_group_name\":\"homogeneousCluster\",\"instance_type\":\"ml.m5.large\"}],\"network_interface_name\":\"eth0\",\"topology\":null}\n",
      "SM_INPUT_DATA_CONFIG={\"train\":{\"RecordWrapperType\":\"None\",\"S3DistributionType\":\"FullyReplicated\",\"TrainingInputMode\":\"File\"}}\n",
      "SM_OUTPUT_DATA_DIR=/opt/ml/output/data\n",
      "SM_CHANNELS=[\"train\"]\n",
      "SM_CURRENT_HOST=algo-1\n",
      "SM_CURRENT_INSTANCE_TYPE=ml.m5.large\n",
      "SM_CURRENT_INSTANCE_GROUP=homogeneousCluster\n",
      "SM_CURRENT_INSTANCE_GROUP_HOSTS=[\"algo-1\"]\n",
      "SM_INSTANCE_GROUPS=[\"homogeneousCluster\"]\n",
      "SM_INSTANCE_GROUPS_DICT={\"homogeneousCluster\":{\"hosts\":[\"algo-1\"],\"instance_group_name\":\"homogeneousCluster\",\"instance_type\":\"ml.m5.large\"}}\n",
      "SM_DISTRIBUTION_INSTANCE_GROUPS=[]\n",
      "SM_IS_HETERO=false\n",
      "SM_MODULE_NAME=train_model\n",
      "SM_LOG_LEVEL=20\n",
      "SM_FRAMEWORK_MODULE=sagemaker_sklearn_container.training:main\n",
      "SM_INPUT_DIR=/opt/ml/input\n",
      "SM_INPUT_CONFIG_DIR=/opt/ml/input/config\n",
      "SM_OUTPUT_DIR=/opt/ml/output\n",
      "SM_NUM_CPUS=2\n",
      "SM_NUM_GPUS=0\n",
      "SM_NUM_NEURONS=0\n",
      "SM_MODEL_DIR=/opt/ml/model\n",
      "SM_MODULE_DIR=s3://caip02-ml-bucket-zali/titanic-decision-tree-2025-10-27-23-29-54-142/source/sourcedir.tar.gz\n",
      "SM_TRAINING_ENV={\"additional_framework_parameters\":{},\"channel_input_dirs\":{\"train\":\"/opt/ml/input/data/train\"},\"current_host\":\"algo-1\",\"current_instance_group\":\"homogeneousCluster\",\"current_instance_group_hosts\":[\"algo-1\"],\"current_instance_type\":\"ml.m5.large\",\"distribution_hosts\":[],\"distribution_instance_groups\":[],\"framework_module\":\"sagemaker_sklearn_container.training:main\",\"hosts\":[\"algo-1\"],\"hyperparameters\":{},\"input_config_dir\":\"/opt/ml/input/config\",\"input_data_config\":{\"train\":{\"RecordWrapperType\":\"None\",\"S3DistributionType\":\"FullyReplicated\",\"TrainingInputMode\":\"File\"}},\"input_dir\":\"/opt/ml/input\",\"instance_groups\":[\"homogeneousCluster\"],\"instance_groups_dict\":{\"homogeneousCluster\":{\"hosts\":[\"algo-1\"],\"instance_group_name\":\"homogeneousCluster\",\"instance_type\":\"ml.m5.large\"}},\"is_hetero\":false,\"is_master\":true,\"is_modelparallel_enabled\":null,\"is_smddpmprun_installed\":false,\"is_smddprun_installed\":false,\"job_name\":\"titanic-decision-tree-2025-10-27-23-29-54-142\",\"log_level\":20,\"master_hostname\":\"algo-1\",\"model_dir\":\"/opt/ml/model\",\"module_dir\":\"s3://caip02-ml-bucket-zali/titanic-decision-tree-2025-10-27-23-29-54-142/source/sourcedir.tar.gz\",\"module_name\":\"train_model\",\"network_interface_name\":\"eth0\",\"num_cpus\":2,\"num_gpus\":0,\"num_neurons\":0,\"output_data_dir\":\"/opt/ml/output/data\",\"output_dir\":\"/opt/ml/output\",\"output_intermediate_dir\":\"/opt/ml/output/intermediate\",\"resource_config\":{\"current_group_name\":\"homogeneousCluster\",\"current_host\":\"algo-1\",\"current_instance_type\":\"ml.m5.large\",\"hosts\":[\"algo-1\"],\"instance_groups\":[{\"hosts\":[\"algo-1\"],\"instance_group_name\":\"homogeneousCluster\",\"instance_type\":\"ml.m5.large\"}],\"network_interface_name\":\"eth0\",\"topology\":null},\"user_entry_point\":\"train_model.py\"}\n",
      "SM_USER_ARGS=[]\n",
      "SM_OUTPUT_INTERMEDIATE_DIR=/opt/ml/output/intermediate\n",
      "SM_CHANNEL_TRAIN=/opt/ml/input/data/train\n",
      "PYTHONPATH=/opt/ml/code:/miniconda3/bin:/miniconda3/lib/python38.zip:/miniconda3/lib/python3.8:/miniconda3/lib/python3.8/lib-dynload:/miniconda3/lib/python3.8/site-packages\n",
      "Invoking script with the following command:\n",
      "/miniconda3/bin/python train_model.py\n",
      "2025-10-27 23:32:08,228 sagemaker-training-toolkit INFO     Exceptions not imported for SageMaker Debugger as it is not installed.\n",
      "2025-10-27 23:32:08,229 sagemaker-training-toolkit INFO     Exceptions not imported for SageMaker TF as Tensorflow is not installed.\n",
      "=== Classification Report ===\n",
      "              precision    recall  f1-score   support\n",
      "         0.0       0.80      0.90      0.84       106\n",
      "         1.0       0.81      0.67      0.73        72\n",
      "    accuracy                           0.80       178\n",
      "   macro avg       0.81      0.78      0.79       178\n",
      "weighted avg       0.80      0.80      0.80       178\n",
      "=== Confusion Matrix ===\n",
      "[[95 11]\n",
      " [24 48]]\n",
      "=== Feature Importances ===\n",
      "Sex         0.592333\n",
      "Pclass      0.266138\n",
      "Age         0.074534\n",
      "Fare        0.042353\n",
      "SibSp       0.024641\n",
      "Embarked    0.000000\n",
      "Parch       0.000000\n",
      "dtype: float64\n",
      "2025-10-27 23:32:09,352 sagemaker-containers INFO     Reporting training SUCCESS\n",
      "\n",
      "2025-10-27 23:32:28 Training - Training image download completed. Training in progress.\n",
      "2025-10-27 23:32:28 Uploading - Uploading generated training model\n",
      "2025-10-27 23:32:28 Completed - Training job completed\n",
      "Training seconds: 115\n",
      "Billable seconds: 115\n"
     ]
    }
   ],
   "source": [
    "from sagemaker.sklearn.estimator import SKLearn\n",
    "import sagemaker\n",
    "import boto3\n",
    "\n",
    "# Values from your CloudFormation stack\n",
    "bucket = \"caip02-ml-bucket-zali\"\n",
    "role = \"arn:aws:iam::458806987020:role/caip02-execution-role-zali\"\n",
    "region = boto3.Session().region_name\n",
    "\n",
    "# Input and output locations in S3\n",
    "input_path = f\"s3://{bucket}/inputs/\"\n",
    "output_path = f\"s3://{bucket}/models/\"\n",
    "\n",
    "# Set up the SageMaker session\n",
    "session = sagemaker.Session()\n",
    "\n",
    "# Create SKLearn estimator\n",
    "estimator = SKLearn(\n",
    "    entry_point=\"train_model.py\",\n",
    "    role=role,\n",
    "    instance_type=\"ml.m5.large\",\n",
    "    framework_version=\"1.0-1\",\n",
    "    sagemaker_session=session,\n",
    "    output_path=output_path,\n",
    "    base_job_name=\"titanic-decision-tree\"\n",
    ")\n",
    "\n",
    "# Launch the training job\n",
    "estimator.fit({\"train\": input_path})\n"
   ]
  },
  {
   "cell_type": "markdown",
   "id": "4638c263",
   "metadata": {},
   "source": [
    "### Example Output (Sagemaker Jobs Training Screenshot)\n",
    "\n",
    "<div align=\"center\">\n",
    "  <img src=\"sm_jobs_training.png\" alt=\"Sagemaker Jobs Training Dashboard\" style=\"width:100%;\">\n",
    "</div>"
   ]
  },
  {
   "cell_type": "markdown",
   "id": "af3744b5",
   "metadata": {},
   "source": [
    "## Review Results in CloudWatch"
   ]
  },
  {
   "cell_type": "markdown",
   "id": "851a49ae",
   "metadata": {},
   "source": [
    "After the SageMaker training job completes, the output of our `train_model.py` script is automatically sent to **Amazon CloudWatch Logs**. This includes:\n",
    "\n",
    "- The full **classification report**\n",
    "- The **confusion matrix** showing predicted vs actual survival\n",
    "- A list of **feature importances** ranked by influence on model predictions\n",
    "\n",
    "These logs are essential for debugging and evaluating model performance — especially when training at scale or remotely.\n",
    "\n",
    "---\n",
    "\n",
    "### How to View the Logs\n",
    "\n",
    "1. Go to the [SageMaker Console](https://console.aws.amazon.com/sagemaker/home)\n",
    "2. Click **Training jobs**\n",
    "3. Select your job name (e.g., `titanic-decision-tree-...`)\n",
    "4. Scroll down to **Monitor** and click the **View logs** link\n",
    "5. Inside CloudWatch Logs, review the printed output from your training script\n",
    "\n",
    "---\n",
    "\n",
    "### Example Output (CloudWatch Screenshot)\n",
    "\n",
    "<div align=\"center\">\n",
    "  <img src=\"cw_logs.png\" alt=\"CloudWatch output\" style=\"width:80%;\">\n",
    "</div>\n",
    "\n",
    "---\n",
    "\n",
    "This output confirms that your training script executed properly and gives you quick insights into model quality — without downloading any files.\n"
   ]
  },
  {
   "cell_type": "markdown",
   "id": "b66e6d78",
   "metadata": {},
   "source": [
    "## Local Model Evaluation (For Comparison)"
   ]
  },
  {
   "cell_type": "markdown",
   "id": "d140cd4a",
   "metadata": {},
   "source": [
    "Before we trained the model in SageMaker, we could have easily done the same thing locally. This helps us validate that our cloud workflow is working correctly by comparing the same model trained and evaluated in a Jupyter cell.\n",
    "\n",
    "This block repeats the core logic of our `train_model.py` file but runs right here in the notebook.\n",
    "\n",
    "You should see the same confusion matrix and feature importance values if everything is consistent.\n"
   ]
  },
  {
   "cell_type": "code",
   "execution_count": 26,
   "id": "e6f230ee",
   "metadata": {},
   "outputs": [
    {
     "name": "stdout",
     "output_type": "stream",
     "text": [
      "=== Classification Report ===\n",
      "\n",
      "              precision    recall  f1-score   support\n",
      "\n",
      "         0.0       0.80      0.90      0.84       106\n",
      "         1.0       0.81      0.67      0.73        72\n",
      "\n",
      "    accuracy                           0.80       178\n",
      "   macro avg       0.81      0.78      0.79       178\n",
      "weighted avg       0.80      0.80      0.80       178\n",
      "\n"
     ]
    },
    {
     "data": {
      "image/png": "[encoded data removed]",
      "text/plain": [
       "<Figure size 1200x500 with 4 Axes>"
      ]
     },
     "metadata": {},
     "output_type": "display_data"
    },
    {
     "name": "stderr",
     "output_type": "stream",
     "text": [
      "C:\\Users\\Ziggy\\AppData\\Local\\Temp\\ipykernel_66228\\953728735.py:55: FutureWarning: \n",
      "\n",
      "Passing `palette` without assigning `hue` is deprecated and will be removed in v0.14.0. Assign the `y` variable to `hue` and set `legend=False` for the same effect.\n",
      "\n",
      "  sns.barplot(x=importances, y=importances.index, palette=\"viridis\")\n"
     ]
    },
    {
     "data": {
      "image/png": "[encoded data removed]",
      "text/plain": [
       "<Figure size 800x500 with 1 Axes>"
      ]
     },
     "metadata": {},
     "output_type": "display_data"
    }
   ],
   "source": [
    "import pandas as pd\n",
    "from sklearn.tree import DecisionTreeClassifier\n",
    "from sklearn.model_selection import train_test_split\n",
    "from sklearn.preprocessing import StandardScaler\n",
    "from sklearn.metrics import classification_report, confusion_matrix, ConfusionMatrixDisplay\n",
    "import matplotlib.pyplot as plt\n",
    "import seaborn as sns\n",
    "\n",
    "# Load cleaned Titanic dataset\n",
    "df = pd.read_csv(\"cleaned_titanic.csv\")\n",
    "\n",
    "# Features and target\n",
    "X = df.drop(\"Survived\", axis=1)\n",
    "y = df[\"Survived\"]\n",
    "\n",
    "# Train/test split\n",
    "X_train, X_test, y_train, y_test = train_test_split(X, y, stratify=y, random_state=42)\n",
    "\n",
    "# Scale features\n",
    "scaler = StandardScaler()\n",
    "X_train_scaled = scaler.fit_transform(X_train)\n",
    "X_test_scaled = scaler.transform(X_test)\n",
    "\n",
    "# Train model\n",
    "clf = DecisionTreeClassifier(max_depth=3, random_state=42)\n",
    "clf.fit(X_train_scaled, y_train)\n",
    "\n",
    "# Predict and evaluate\n",
    "y_pred = clf.predict(X_test_scaled)\n",
    "\n",
    "print(\"=== Classification Report ===\\n\")\n",
    "print(classification_report(y_test, y_pred))\n",
    "\n",
    "# Raw and normalized confusion matrices\n",
    "cm_raw = confusion_matrix(y_test, y_pred)\n",
    "cm_norm = confusion_matrix(y_test, y_pred, normalize='true')\n",
    "\n",
    "# Plot both side-by-side\n",
    "fig, axes = plt.subplots(1, 2, figsize=(12, 5))\n",
    "\n",
    "# Raw counts\n",
    "ConfusionMatrixDisplay(confusion_matrix=cm_raw).plot(ax=axes[0], cmap='Blues', values_format='d')\n",
    "axes[0].set_title(\"Confusion Matrix (Raw Counts)\")\n",
    "\n",
    "# Normalized\n",
    "ConfusionMatrixDisplay(confusion_matrix=cm_norm).plot(ax=axes[1], cmap='Purples', values_format=\".2f\")\n",
    "axes[1].set_title(\"Confusion Matrix (Normalized by Row)\")\n",
    "\n",
    "plt.tight_layout()\n",
    "plt.show()\n",
    "\n",
    "# Feature importance plot\n",
    "importances = pd.Series(clf.feature_importances_, index=X.columns).sort_values()\n",
    "plt.figure(figsize=(8, 5))\n",
    "sns.barplot(x=importances, y=importances.index, palette=\"viridis\")\n",
    "plt.title(\"Feature Importances (Local Model)\")\n",
    "plt.xlabel(\"Importance Score\")\n",
    "plt.tight_layout()\n",
    "plt.show()\n"
   ]
  },
  {
   "cell_type": "markdown",
   "id": "e771dd8f",
   "metadata": {},
   "source": [
    "### From Sagemaker Training\n",
    "\n",
    "<div align=\"center\">\n",
    "  <img src=\"cw_logs.png\" alt=\"CloudWatch output\" style=\"width:80%;\">\n",
    "</div>"
   ]
  },
  {
   "cell_type": "markdown",
   "id": "b905a0a4",
   "metadata": {},
   "source": [
    "## Cleanup"
   ]
  },
  {
   "cell_type": "markdown",
   "id": "351d904d",
   "metadata": {},
   "source": [
    "Now that you've successfully trained and evaluated a model in the cloud, you’ve completed your first end-to-end managed ML workflow using SageMaker.\n",
    "\n",
    "---\n",
    "\n",
    "### Cleanup (Don’t Leave the Lights On)\n",
    "\n",
    "To avoid unnecessary AWS charges, we’ll delete all the resources we created:\n",
    "\n",
    "- **CloudFormation Stack**:  \n",
    "  This will automatically delete:\n",
    "  - The SageMaker Studio domain\n",
    "  - The execution role\n",
    "  - The S3 bucket  \n",
    "  You can do this programmatically using `boto3` (recommended), or…  \n",
    "  *if you absolutely must*... use the [CloudFormation Console](https://console.aws.amazon.com/cloudformation) like a savage.\n",
    "\n",
    "- **CloudWatch Logs**:  \n",
    "  These are optional to clean up, but can be removed from the [CloudWatch Console](https://console.aws.amazon.com/cloudwatch) if desired.\n",
    "\n"
   ]
  },
  {
   "cell_type": "code",
   "execution_count": null,
   "id": "ea238cf2",
   "metadata": {},
   "outputs": [
    {
     "name": "stdout",
     "output_type": "stream",
     "text": [
      "🧨 Deleting stack: caip02-cloud-ml-stack\n",
      "⏳ Waiting for stack to be fully deleted...\n",
      "✅ Stack 'caip02-cloud-ml-stack' successfully deleted.\n"
     ]
    },
    {
     "ename": "",
     "evalue": "",
     "output_type": "error",
     "traceback": [
      "\u001b[1;31mRunning cells with '.conda (Python 3.12.11)' requires the ipykernel package.\n",
      "\u001b[1;31m<a href='command:jupyter.createPythonEnvAndSelectController'>Create a Python Environment</a> with the required packages.\n",
      "\u001b[1;31mOr install 'ipykernel' using the command: 'conda install -p c:\\Users\\Ziggy\\Dropbox\\GitHub\\infrastructure\\.conda ipykernel --update-deps --force-reinstall'"
     ]
    }
   ],
   "source": [
    "import boto3\n",
    "\n",
    "cf = boto3.client(\"cloudformation\")\n",
    "stack_name = \"caip02-cloud-ml-stack\"\n",
    "\n",
    "def delete_stack_and_wait(stack_name):\n",
    "    print(f\"🧨 Deleting stack: {stack_name}\")\n",
    "    \n",
    "    # Initiate deletion\n",
    "    cf.delete_stack(StackName=stack_name)\n",
    "\n",
    "    # Wait until stack deletion is complete\n",
    "    waiter = cf.get_waiter(\"stack_delete_complete\")\n",
    "    print(\"⏳ Waiting for stack to be fully deleted...\")\n",
    "    waiter.wait(StackName=stack_name)\n",
    "\n",
    "    print(f\"✅ Stack '{stack_name}' successfully deleted.\")\n",
    "\n",
    "# Call it\n",
    "delete_stack_and_wait(stack_name)\n"
   ]
  },
  {
   "cell_type": "markdown",
   "id": "e5b829aa-5d6a-41d3-a730-3c02e1afb1ea",
   "metadata": {},
   "source": [
    "## Wrap-Up & Takeaways "
   ]
  },
  {
   "cell_type": "markdown",
   "id": "bda14a9a-0efd-4b36-bcd3-6275f515ada5",
   "metadata": {},
   "source": [
    "In this notebook, you completed your first end-to-end cloud-based ML workflow using Amazon SageMaker. You:\n",
    "\n",
    "- Created a fully managed SageMaker Studio environment using CloudFormation\n",
    "- Cleaned and prepared the Titanic dataset\n",
    "- Wrote a training script (`train_model.py`) that runs in the cloud\n",
    "- Uploaded your data to S3\n",
    "- Launched a training job with the SKLearn Estimator\n",
    "- Viewed evaluation results (confusion matrix, classification report, feature importances) in CloudWatch\n",
    "- Compared cloud output with a local model to validate consistency\n",
    "- Cleaned up your resources programmatically using `boto3`\n",
    "\n",
    "---\n",
    "\n",
    "This workflow reflects what real ML teams do in production:\n",
    "\n",
    "- Automate infra with Infrastructure-as-Code (IaC)\n",
    "- Package training logic into standalone scripts\n",
    "- Submit scalable, trackable jobs in the cloud\n",
    "- Monitor outputs in centralized logs\n",
    "- Maintain reproducibility between local dev and cloud runs\n"
   ]
  }
 ],
 "metadata": {
  "kernelspec": {
   "display_name": "Python 3",
   "language": "python",
   "name": "python3"
  },
  "language_info": {
   "codemirror_mode": {
    "name": "ipython",
    "version": 3
   },
   "file_extension": ".py",
   "mimetype": "text/x-python",
   "name": "python",
   "nbconvert_exporter": "python",
   "pygments_lexer": "ipython3",
   "version": "3.12.12"
  }
 },
 "nbformat": 4,
 "nbformat_minor": 5
}
